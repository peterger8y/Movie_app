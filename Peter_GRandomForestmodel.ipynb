{
  "nbformat": 4,
  "nbformat_minor": 0,
  "metadata": {
    "colab": {
      "name": "Peter_GRandomForestmodel.ipynb",
      "provenance": [],
      "collapsed_sections": []
    },
    "kernelspec": {
      "display_name": "Python 3",
      "language": "python",
      "name": "python3"
    },
    "language_info": {
      "codemirror_mode": {
        "name": "ipython",
        "version": 3
      },
      "file_extension": ".py",
      "mimetype": "text/x-python",
      "name": "python",
      "nbconvert_exporter": "python",
      "pygments_lexer": "ipython3",
      "version": "3.8.5"
    }
  },
  "cells": [
    {
      "cell_type": "code",
      "metadata": {
        "id": "nbI6UhHFJQtA"
      },
      "source": [
        "#importing libraries, installing category encoders:\n",
        "#also loading relevant data frames\n",
        "import numpy as np\n",
        "import pandas as pd\n",
        "import seaborn as sns\n",
        "\n",
        "#df = pd.read_csv('/content/movies_metadata.csv', low_memory=False)\n",
        "#df.loc[df['release_date'] == 'TV Movie 2019', 'release_date'] = '2019'\n",
        "##df['release_date'] = pd.to_datetime(df['release_date'], infer_datetime_format=True, errors='coerce')\n",
        "#df.drop(columns='adult', inplace=True)\n",
        "#df['year'] = df['release_date'].dt.year\n",
        "#df['year'] = df['year'].astype(float)\n",
        "#df_fresh = pd.read_csv('/content/IMDb movies.csv', low_memory=False)\n",
        "#df_fresh.loc[df_fresh['year'] == 'TV Movie 2019', 'year'] = 2019\n",
        "#df_fresh['year'] = df_fresh['year'].astype(float)\n",
        "#a = df.loc[df['revenue'].isnull()].index\n",
        "#df.drop(labels=a, inplace=True)\n",
        "#df.reset_index(inplace=True)\n",
        "#df.drop_duplicates(inplace=True)"
      ],
      "execution_count": 72,
      "outputs": []
    },
    {
      "cell_type": "code",
      "metadata": {
        "colab": {
          "base_uri": "https://localhost:8080/"
        },
        "id": "mRyjW6ygiohz",
        "outputId": "aef310fa-03ce-4bd1-a96f-00638707f458"
      },
      "source": [
        "!pip install category_encoders"
      ],
      "execution_count": 73,
      "outputs": [
        {
          "output_type": "stream",
          "text": [
            "Requirement already satisfied: category_encoders in /usr/local/lib/python3.7/dist-packages (2.2.2)\n",
            "Requirement already satisfied: scikit-learn>=0.20.0 in /usr/local/lib/python3.7/dist-packages (from category_encoders) (0.22.2.post1)\n",
            "Requirement already satisfied: pandas>=0.21.1 in /usr/local/lib/python3.7/dist-packages (from category_encoders) (1.1.5)\n",
            "Requirement already satisfied: patsy>=0.5.1 in /usr/local/lib/python3.7/dist-packages (from category_encoders) (0.5.1)\n",
            "Requirement already satisfied: scipy>=1.0.0 in /usr/local/lib/python3.7/dist-packages (from category_encoders) (1.4.1)\n",
            "Requirement already satisfied: numpy>=1.14.0 in /usr/local/lib/python3.7/dist-packages (from category_encoders) (1.19.5)\n",
            "Requirement already satisfied: statsmodels>=0.9.0 in /usr/local/lib/python3.7/dist-packages (from category_encoders) (0.10.2)\n",
            "Requirement already satisfied: joblib>=0.11 in /usr/local/lib/python3.7/dist-packages (from scikit-learn>=0.20.0->category_encoders) (1.0.1)\n",
            "Requirement already satisfied: pytz>=2017.2 in /usr/local/lib/python3.7/dist-packages (from pandas>=0.21.1->category_encoders) (2018.9)\n",
            "Requirement already satisfied: python-dateutil>=2.7.3 in /usr/local/lib/python3.7/dist-packages (from pandas>=0.21.1->category_encoders) (2.8.1)\n",
            "Requirement already satisfied: six in /usr/local/lib/python3.7/dist-packages (from patsy>=0.5.1->category_encoders) (1.15.0)\n"
          ],
          "name": "stdout"
        }
      ]
    },
    {
      "cell_type": "code",
      "metadata": {
        "id": "2YkIfh5OF7GH"
      },
      "source": [
        "\n",
        "#Decreasing number of NAN inputs for revenue referencing another IMDB dataset\n",
        "\n",
        "#alpha = df.loc[df['revenue'] == 0, 'title']\n",
        "\n",
        "#for x in alpha:\n",
        " # b = df_fresh.loc[df_fresh['title'] == x, 'worlwide_gross_income']\n",
        "  #c = df_fresh.loc[df_fresh['title'] == x, 'year']\n",
        "  #for y, z in enumerate(b):\n",
        "    #df.loc[(df['original_title']==x) & (df['year'] ==c.iloc[y]), 'revenue'] = b.iloc[y]\n",
        "\n",
        "#alpha = df.loc[df['revenue'] == 0].index\n",
        "#df.drop(labels=alpha, inplace=True)\n",
        "\n",
        "\n",
        "#manufacturing new columns for previous dataset to improve machine learning model\n",
        "#Again, pulling from the same IMDB dataset:\n",
        "\n",
        "#df_act_dir = pd.read_csv('/content/IMDb movies.csv', low_memory=False)\n",
        "\n",
        "#df_act_dir.drop(columns = ['imdb_title_id', 'date_published', 'genre', 'country', 'language', \n",
        "                           #'description', 'avg_vote', 'votes', 'budget', 'usa_gross_income', 'worlwide_gross_income', \n",
        "                           #'metascore', 'reviews_from_users', 'reviews_from_critics', 'original_title'], inplace=True)\n",
        "#df = pd.merge(df, df_act_dir, how='inner', on='title')"
      ],
      "execution_count": 74,
      "outputs": []
    },
    {
      "cell_type": "code",
      "metadata": {
        "id": "An6gDUA92Pd1"
      },
      "source": [
        "#df.to_csv('df_for_graders')"
      ],
      "execution_count": 75,
      "outputs": []
    },
    {
      "cell_type": "code",
      "metadata": {
        "id": "AGhMwGoSHABq"
      },
      "source": [
        "df = pd.read_csv('https://raw.githubusercontent.com/peterger8y/Movie_app/main/Movie_app/assets/df_for_graders.csv')"
      ],
      "execution_count": 76,
      "outputs": []
    },
    {
      "cell_type": "code",
      "metadata": {
        "id": "KsD8k44NJQtD"
      },
      "source": [
        "#dropping high cardinality features, and features presently unusable\n",
        "\n",
        "features_to_drop = ['belongs_to_collection', 'homepage', 'imdb_id', 'overview', \n",
        "                    'tagline', 'title', 'poster_path', 'original_title', 'production_companies', 'status']\n",
        "df_x = df.drop(columns = features_to_drop)"
      ],
      "execution_count": 77,
      "outputs": []
    },
    {
      "cell_type": "code",
      "metadata": {
        "id": "o6vmaVS9HN7J"
      },
      "source": [
        "#dropping null revenue rows:\n",
        "a = df_x.loc[df['revenue'].isnull()].index\n",
        "df_x.drop(labels=a, inplace=True)\n",
        "df_x.drop(columns=['year_x', 'year_y'], inplace=True)"
      ],
      "execution_count": 78,
      "outputs": []
    },
    {
      "cell_type": "code",
      "metadata": {
        "id": "lwFQx7DfJQtE"
      },
      "source": [
        "# cleaning up production_countries and genres columns, making them more readable\n",
        "ak = []\n",
        "for x in df['production_countries']:\n",
        "    x = x.split(':')\n",
        "    if len(x)<=1:\n",
        "        ak.append('unknown')\n",
        "    else:\n",
        "        x = x[-1].strip('}]')\n",
        "        x = x.strip()\n",
        "        ak.append(x)\n",
        "\n",
        "df['production_countries'] = ak\n",
        "\n",
        "ab = []\n",
        "ad = []\n",
        "for x in range(len(df['genres'])):\n",
        "    ac = []\n",
        "    ae = []\n",
        "    y = df['genres'][x]\n",
        "    g = y.split(':')\n",
        "    for z in range(len(g)):\n",
        "        if z%2 == 1:\n",
        "            h = g[z].split()\n",
        "            h = h[0].strip(',')\n",
        "            ac.append(h)\n",
        "    ab.append(ac)\n",
        "\n",
        "            \n",
        "df['genres'] = ab \n",
        "\n",
        "ab = []\n",
        "for x in df['genres']:\n",
        "    if len(x) == 0:\n",
        "        ab.append(0)\n",
        "    else:\n",
        "        for y in range(len(x)):\n",
        "            if y ==0:\n",
        "                g = x[y]\n",
        "            else:\n",
        "                g = g + x[y]\n",
        "        ab.append(g)\n",
        "\n",
        "df['genres'] = ab  "
      ],
      "execution_count": 79,
      "outputs": []
    },
    {
      "cell_type": "code",
      "metadata": {
        "id": "KCbnw5X7GHHf"
      },
      "source": [
        "#cleaning up revenue column for machine learning model:\n",
        "\n",
        "ab = []\n",
        "df_x['revenue'] = df_x['revenue'].astype(str)\n",
        "for x in df_x['revenue']:\n",
        "  x = x.strip('$')\n",
        "  x = x.strip('INR')\n",
        "  ab.append(x)\n",
        "\n",
        "df_x['revenue'] = ab\n",
        "df_x['revenue'] = df_x['revenue'].astype(float)\n",
        "\n",
        "#Generating new columns for Year, month, and day\n",
        "\n",
        "df_x['release_date'] = pd.to_datetime(df_x['release_date'], infer_datetime_format=True)\n",
        "df_x['year'] = df_x['release_date'].dt.year\n",
        "df_x['month'] = df_x['release_date'].dt.month\n",
        "df_x['day'] = df_x['release_date'].dt.day\n",
        "df_x.drop(columns='release_date', inplace=True)"
      ],
      "execution_count": 80,
      "outputs": []
    },
    {
      "cell_type": "code",
      "metadata": {
        "id": "wmeY0erHoO6h"
      },
      "source": [
        "#importing another IMDB dataset to reference for Actor and actresses column in present dataset:\n",
        "#also, converting actor column from difficult to interpret strings into a measure of how many \n",
        "#'top' actresses and actors are present in film\n",
        "\n",
        "top_1000 = pd.read_csv('https://raw.githubusercontent.com/peterger8y/Movie_app/main/Movie_app/assets/Top%201000%20Actors%20and%20Actresses.csv', encoding='latin-1')\n",
        "abb = []\n",
        "for x in top_1000['Name']:\n",
        "  abb.append(x)\n",
        "\n",
        "df_x.loc[df_x['actors'].isnull(), 'actors'] = 'none'\n",
        "\n",
        "ab = []\n",
        "\n",
        "for x in df_x['actors']:\n",
        "  ac = []\n",
        "  x = x.split(',')\n",
        "  for y in x:\n",
        "    y = y.strip()\n",
        "    if y in abb:\n",
        "      ac.append(1)\n",
        "  b = np.sum(ac)\n",
        "  ab.append(b)\n",
        "\n",
        "df_x['actors'] = ab"
      ],
      "execution_count": 81,
      "outputs": []
    },
    {
      "cell_type": "code",
      "metadata": {
        "id": "VGoaGd_5M2Vi"
      },
      "source": [
        "#reducing cardinality of production_company feature:\n",
        "a = pd.DataFrame(df_x['production_company'].value_counts())\n",
        "for x in a.index:\n",
        "  if a.loc[x][0]< 30:\n",
        "    df_x.loc[df_x['production_company'] == x, 'production_company'] = 'other'"
      ],
      "execution_count": 82,
      "outputs": []
    },
    {
      "cell_type": "code",
      "metadata": {
        "id": "jkLqE-yJ-3WS"
      },
      "source": [
        "#performing same action with directors as with actors:\n",
        "top_dir = pd.read_csv('https://raw.githubusercontent.com/peterger8y/Movie_app/main/Movie_app/assets/1000%20the%20Best%20Directors.csv', encoding='latin-1')\n",
        "abb = []\n",
        "for x in top_dir['Name']:\n",
        "  abb.append(x)\n",
        "\n",
        "df_x['director'] = df_x['director'].astype(str)\n",
        "ab = []\n",
        "for x in df_x['director']:\n",
        "  ac = []\n",
        "  x = x.split(',')\n",
        "  for y in x:\n",
        "    y = y.strip()\n",
        "    if y in abb:\n",
        "      ac.append(1)\n",
        "  b = np.sum(ac)\n",
        "  ab.append(b)\n",
        "\n",
        "df_x['director'] = ab"
      ],
      "execution_count": 83,
      "outputs": []
    },
    {
      "cell_type": "code",
      "metadata": {
        "id": "xBZ1_DkwA1uR"
      },
      "source": [
        "#dropping low importance feature....\n",
        "\n",
        "df_x = df_x.drop(columns='writer')"
      ],
      "execution_count": 84,
      "outputs": []
    },
    {
      "cell_type": "code",
      "metadata": {
        "id": "TxTJZDSG9wTG"
      },
      "source": [
        "#cleaning up spoken_languages feature for easier interpetability\n",
        "\n",
        "\n",
        "ab = []\n",
        "for x in df_x['spoken_languages']:\n",
        "  x = x.split(':')\n",
        "  y = len(x)\n",
        "  z = y//2\n",
        "  ab.append(z)\n",
        "\n",
        "df_x['number_of_languages'] = ab"
      ],
      "execution_count": 85,
      "outputs": []
    },
    {
      "cell_type": "code",
      "metadata": {
        "id": "GPBPxF-MOnP4"
      },
      "source": [
        "#cleaning up genres\n",
        "\n",
        "ac = []\n",
        "for x in df_x['genres']:\n",
        "  ab = []\n",
        "  x = x.split(':')\n",
        "  for y, z in enumerate(x):\n",
        "    if y != 0:\n",
        "      if y%2 ==0:\n",
        "        z = z.split(',')\n",
        "        ab.append(z[0])\n",
        "  ac.append(ab)"
      ],
      "execution_count": 86,
      "outputs": []
    },
    {
      "cell_type": "code",
      "metadata": {
        "id": "jEwAkONCS0eR"
      },
      "source": [
        "#cleaning up genres:\n",
        "\n",
        "ab = []\n",
        "for x in ac:\n",
        "  ad = []\n",
        "  if len(x) == 0:\n",
        "    ab.append('uknown')\n",
        "  else:\n",
        "    for y in x:\n",
        "      y = y.strip('\"')\n",
        "      y = y.strip('}')\n",
        "      ad.append(y)\n",
        "    ab.append(ad)\n"
      ],
      "execution_count": 87,
      "outputs": []
    },
    {
      "cell_type": "code",
      "metadata": {
        "id": "8JDQ2E4iT8Yx"
      },
      "source": [
        "#cleaning up genres, cont.:\n",
        "ac = []\n",
        "for x in ab:\n",
        "  ad = []\n",
        "  for y in x:\n",
        "    y = y.strip('}]')\n",
        "    y = y.strip('\"')\n",
        "    ad.append(y)\n",
        "  ac.append(ad)"
      ],
      "execution_count": 88,
      "outputs": []
    },
    {
      "cell_type": "code",
      "metadata": {
        "id": "zLFSBfquVNYz"
      },
      "source": [
        "#cleaning up genres, cont.:\n",
        "ab = []\n",
        "for x in ac:\n",
        "  ad = []\n",
        "  for y in x:\n",
        "    y = y.strip(\"'\")\n",
        "    y = y.strip(\"' \")\n",
        "    ad.append(y)\n",
        "  ab.append(ad)"
      ],
      "execution_count": 89,
      "outputs": []
    },
    {
      "cell_type": "code",
      "metadata": {
        "id": "EJhr2rJ-VqGq"
      },
      "source": [
        "#cleaning u genres, cont.:\n",
        "ac = []\n",
        "for x in ab:\n",
        "  if len(x) == 0:\n",
        "    ac.append('unknown')\n",
        "  else:\n",
        "    for y, z in enumerate(x):\n",
        "      if y == 0:\n",
        "        w = z\n",
        "      else:\n",
        "        w = w + (', ') + z\n",
        "    ac.append(w)"
      ],
      "execution_count": 90,
      "outputs": []
    },
    {
      "cell_type": "code",
      "metadata": {
        "id": "pRs19xMYWbrj"
      },
      "source": [
        "#cleaned genres:\n",
        "df_x['genres'] = ac"
      ],
      "execution_count": 91,
      "outputs": []
    },
    {
      "cell_type": "code",
      "metadata": {
        "id": "SLD8O30W-4Hn"
      },
      "source": [
        "#since spoken languages was converted into number of languages released, dropped lesser\n",
        "#important feature:\n",
        "df_x.drop(columns='spoken_languages', inplace=True)"
      ],
      "execution_count": 92,
      "outputs": []
    },
    {
      "cell_type": "code",
      "metadata": {
        "id": "ov1dowTsWk7o"
      },
      "source": [
        "#dropping junk features:\n",
        "df_x.drop(columns=['index', 'video', 'id'], inplace=True)"
      ],
      "execution_count": 93,
      "outputs": []
    },
    {
      "cell_type": "code",
      "metadata": {
        "id": "ozi-n0SeZMuI"
      },
      "source": [
        "#cleaning production countries feature:\n",
        "ab = []\n",
        "for x in df_x['production_countries']:\n",
        "  x = x.split(':')\n",
        "  x = x[-1]\n",
        "  x = x.strip(\"' \")\n",
        "  x = x.strip(\"}]'\")\n",
        "  ab.append(x)"
      ],
      "execution_count": 94,
      "outputs": []
    },
    {
      "cell_type": "code",
      "metadata": {
        "id": "1ymSdJdf98GG"
      },
      "source": [
        "#cleaning genre feature:\n",
        "ab = []\n",
        "for x in df_x['genres']:\n",
        "  if x == 'u, k, o, w, n':\n",
        "    ab.append('unknown')\n",
        "  else:\n",
        "    x = x.split(',')\n",
        "    ab.append(x[0])\n",
        "df_x['genres'] = ab"
      ],
      "execution_count": 95,
      "outputs": []
    },
    {
      "cell_type": "code",
      "metadata": {
        "id": "zSiKmbI4Zx31"
      },
      "source": [
        "df_x['production_countries'] = ab"
      ],
      "execution_count": 96,
      "outputs": []
    },
    {
      "cell_type": "code",
      "metadata": {
        "id": "TSCqAMP_Z2wx"
      },
      "source": [
        "df_x.loc[df_x['production_countries'] == '[', 'production_countries'] = 'unknown'"
      ],
      "execution_count": 97,
      "outputs": []
    },
    {
      "cell_type": "code",
      "metadata": {
        "id": "IA5uWW3hJKX1"
      },
      "source": [
        "#prepping budget feature\n",
        "df_x['budget'] = df_x['budget'].astype(float)\n",
        "mean = df_x['budget'].loc[df_x['budget'] != 0].mean()\n",
        "df_x.loc[df_x['budget']==0, 'budget'] = mean"
      ],
      "execution_count": 98,
      "outputs": []
    },
    {
      "cell_type": "code",
      "metadata": {
        "id": "3VlhpcNUafWY"
      },
      "source": [
        "# removing redundant column:\n",
        "df_x.drop(columns='duration', inplace=True)"
      ],
      "execution_count": 99,
      "outputs": []
    },
    {
      "cell_type": "code",
      "metadata": {
        "id": "KY9alBggJfTM"
      },
      "source": [
        "#removing potential feature leakage:\n",
        "df_x.head()\n",
        "df_x.drop(columns=['popularity', 'vote_average', 'vote_count'], inplace=True)"
      ],
      "execution_count": 100,
      "outputs": []
    },
    {
      "cell_type": "code",
      "metadata": {
        "id": "zQdLpdSNqsSs"
      },
      "source": [
        "X = df_x.drop(columns='revenue')\n",
        "y = df_x['revenue']"
      ],
      "execution_count": 101,
      "outputs": []
    },
    {
      "cell_type": "code",
      "metadata": {
        "id": "BACdx-_VJQtJ"
      },
      "source": [
        "from sklearn.model_selection import train_test_split\n",
        "from sklearn.metrics import mean_absolute_error\n",
        "xtrain, X_test, ytrain, y_test = train_test_split(X, y, test_size = .2, random_state=42)\n",
        "X_train, X_val, y_train, y_val = train_test_split(xtrain, ytrain, test_size = .2, random_state=42)"
      ],
      "execution_count": 102,
      "outputs": []
    },
    {
      "cell_type": "code",
      "metadata": {
        "id": "o7KjbO0XJQtJ"
      },
      "source": [
        "baseline = np.mean(y_train)\n",
        "baseline_train = [baseline for x in range(len(y_train))]\n",
        "baseline_train = np.array(baseline_train)\n",
        "baseline_acc = mean_absolute_error(y_train, baseline_train)"
      ],
      "execution_count": 103,
      "outputs": []
    },
    {
      "cell_type": "code",
      "metadata": {
        "colab": {
          "base_uri": "https://localhost:8080/"
        },
        "id": "a8PtZVCpJQtK",
        "outputId": "37dda6d3-c864-42ea-fc8d-a6dd69293d64"
      },
      "source": [
        "baseline_acc"
      ],
      "execution_count": 104,
      "outputs": [
        {
          "output_type": "execute_result",
          "data": {
            "text/plain": [
              "52169022.79024799"
            ]
          },
          "metadata": {
            "tags": []
          },
          "execution_count": 104
        }
      ]
    },
    {
      "cell_type": "code",
      "metadata": {
        "colab": {
          "base_uri": "https://localhost:8080/"
        },
        "id": "ewCThi5HJQtK",
        "outputId": "db725ea1-7db5-49bd-ca96-2b96011d36bf"
      },
      "source": [
        "#Importing packages and fitting a Random Forest Regressor\n",
        "from sklearn.linear_model import LinearRegression\n",
        "from sklearn.pipeline import make_pipeline\n",
        "from sklearn.preprocessing import StandardScaler\n",
        "from sklearn.ensemble import RandomForestRegressor\n",
        "from sklearn.impute import SimpleImputer\n",
        "from sklearn.metrics import mean_squared_error\n",
        "from sklearn.metrics import r2_score\n",
        "from sklearn.metrics import mean_absolute_error\n",
        "from category_encoders import OrdinalEncoder\n",
        "\n",
        "pipeline=make_pipeline(OrdinalEncoder(cols=['original_language', 'production_countries', 'production_company', 'genres']), SimpleImputer(strategy='median'), RandomForestRegressor(n_estimators = 250, min_samples_leaf=5, random_state=41))\n",
        "pipeline.fit(X_train, y_train)\n",
        "\n",
        "pipeline.score(X_train, y_train)"
      ],
      "execution_count": 105,
      "outputs": [
        {
          "output_type": "execute_result",
          "data": {
            "text/plain": [
              "0.7976246319386686"
            ]
          },
          "metadata": {
            "tags": []
          },
          "execution_count": 105
        }
      ]
    },
    {
      "cell_type": "code",
      "metadata": {
        "colab": {
          "base_uri": "https://localhost:8080/"
        },
        "id": "lSwkgBzRJQtL",
        "outputId": "e4e574a1-81bf-45e7-f6bf-16b3084b3273"
      },
      "source": [
        "pipeline.score(X_val, y_val)"
      ],
      "execution_count": 106,
      "outputs": [
        {
          "output_type": "execute_result",
          "data": {
            "text/plain": [
              "0.6835147182426308"
            ]
          },
          "metadata": {
            "tags": []
          },
          "execution_count": 106
        }
      ]
    },
    {
      "cell_type": "code",
      "metadata": {
        "colab": {
          "base_uri": "https://localhost:8080/",
          "height": 51
        },
        "id": "zO5bnxdr9c80",
        "outputId": "39fd2c73-d3b9-45cc-f51c-e2e67176dc2f"
      },
      "source": [
        "y_pred = pipeline.predict(X_val)\n",
        "display(mean_absolute_error(y_val, y_pred))\n",
        "display(mean_squared_error(y_val, y_pred))"
      ],
      "execution_count": 107,
      "outputs": [
        {
          "output_type": "display_data",
          "data": {
            "text/plain": [
              "21419004.18630847"
            ]
          },
          "metadata": {
            "tags": []
          }
        },
        {
          "output_type": "display_data",
          "data": {
            "text/plain": [
              "4177960568774834.0"
            ]
          },
          "metadata": {
            "tags": []
          }
        }
      ]
    },
    {
      "cell_type": "code",
      "metadata": {
        "colab": {
          "base_uri": "https://localhost:8080/"
        },
        "id": "-_Qy7rYEfOTT",
        "outputId": "708a0bcd-4a54-449a-f9a3-29d69e40b810"
      },
      "source": [
        "from joblib import dump\n",
        "dump(pipeline, 'pipline.joblib', compress = True)"
      ],
      "execution_count": 108,
      "outputs": [
        {
          "output_type": "execute_result",
          "data": {
            "text/plain": [
              "['pipline.joblib']"
            ]
          },
          "metadata": {
            "tags": []
          },
          "execution_count": 108
        }
      ]
    },
    {
      "cell_type": "code",
      "metadata": {
        "colab": {
          "base_uri": "https://localhost:8080/"
        },
        "id": "Mcjmjhwsf_4a",
        "outputId": "5b64c2b4-e02d-43dc-ad4e-0ffad3f11656"
      },
      "source": [
        "#exporting trained model\n",
        "import joblib\n",
        "import sklearn\n",
        "import category_encoders as ce\n",
        "import xgboost\n",
        "print(f'joblib=={joblib.__version__}')\n",
        "print(f'scikit-learn=={sklearn.__version__}')\n",
        "print(f'category_encoders=={ce.__version__}')\n",
        "print(f'xgboost=={xgboost.__version__}')"
      ],
      "execution_count": 109,
      "outputs": [
        {
          "output_type": "stream",
          "text": [
            "joblib==1.0.1\n",
            "scikit-learn==0.22.2.post1\n",
            "category_encoders==2.2.2\n",
            "xgboost==0.90\n"
          ],
          "name": "stdout"
        }
      ]
    },
    {
      "cell_type": "code",
      "metadata": {
        "id": "Q_a2FvGtFa4k"
      },
      "source": [
        "df_x.to_csv('first_exp')"
      ],
      "execution_count": 110,
      "outputs": []
    },
    {
      "cell_type": "code",
      "metadata": {
        "colab": {
          "base_uri": "https://localhost:8080/"
        },
        "id": "WtWV9JRSsuFe",
        "outputId": "dbf9e7c0-5281-48c6-f18e-beec7124d7f5"
      },
      "source": [
        "!pip install pdpbox"
      ],
      "execution_count": 111,
      "outputs": [
        {
          "output_type": "stream",
          "text": [
            "Requirement already satisfied: pdpbox in /usr/local/lib/python3.7/dist-packages (0.2.0)\n",
            "Requirement already satisfied: numpy in /usr/local/lib/python3.7/dist-packages (from pdpbox) (1.19.5)\n",
            "Requirement already satisfied: matplotlib>=2.1.2 in /usr/local/lib/python3.7/dist-packages (from pdpbox) (3.2.2)\n",
            "Requirement already satisfied: scikit-learn in /usr/local/lib/python3.7/dist-packages (from pdpbox) (0.22.2.post1)\n",
            "Requirement already satisfied: scipy in /usr/local/lib/python3.7/dist-packages (from pdpbox) (1.4.1)\n",
            "Requirement already satisfied: pandas in /usr/local/lib/python3.7/dist-packages (from pdpbox) (1.1.5)\n",
            "Requirement already satisfied: psutil in /usr/local/lib/python3.7/dist-packages (from pdpbox) (5.4.8)\n",
            "Requirement already satisfied: joblib in /usr/local/lib/python3.7/dist-packages (from pdpbox) (1.0.1)\n",
            "Requirement already satisfied: kiwisolver>=1.0.1 in /usr/local/lib/python3.7/dist-packages (from matplotlib>=2.1.2->pdpbox) (1.3.1)\n",
            "Requirement already satisfied: python-dateutil>=2.1 in /usr/local/lib/python3.7/dist-packages (from matplotlib>=2.1.2->pdpbox) (2.8.1)\n",
            "Requirement already satisfied: cycler>=0.10 in /usr/local/lib/python3.7/dist-packages (from matplotlib>=2.1.2->pdpbox) (0.10.0)\n",
            "Requirement already satisfied: pyparsing!=2.0.4,!=2.1.2,!=2.1.6,>=2.0.1 in /usr/local/lib/python3.7/dist-packages (from matplotlib>=2.1.2->pdpbox) (2.4.7)\n",
            "Requirement already satisfied: pytz>=2017.2 in /usr/local/lib/python3.7/dist-packages (from pandas->pdpbox) (2018.9)\n",
            "Requirement already satisfied: six>=1.5 in /usr/local/lib/python3.7/dist-packages (from python-dateutil>=2.1->matplotlib>=2.1.2->pdpbox) (1.15.0)\n"
          ],
          "name": "stdout"
        }
      ]
    },
    {
      "cell_type": "code",
      "metadata": {
        "id": "_HsqvQ8Ys_se"
      },
      "source": [
        "from pdpbox.pdp import pdp_isolate, pdp_plot\n",
        "\n",
        "feature = 'year'\n",
        "\n",
        "isolated = pdp_isolate(\n",
        "    model=pipeline, \n",
        "    dataset=X_val, \n",
        "    model_features=X_val.columns, \n",
        "    feature=feature,\n",
        "    num_grid_points=50\n",
        ")"
      ],
      "execution_count": 112,
      "outputs": []
    },
    {
      "cell_type": "code",
      "metadata": {
        "id": "yqw6ihcJuorO"
      },
      "source": [
        "#generating dataframe for pdp outputs in app\n",
        "from random import random\n",
        "from random import sample"
      ],
      "execution_count": 113,
      "outputs": []
    },
    {
      "cell_type": "code",
      "metadata": {
        "id": "CDMfh_zXu0K7"
      },
      "source": [
        "X_val.reset_index(inplace=True)"
      ],
      "execution_count": 114,
      "outputs": []
    },
    {
      "cell_type": "code",
      "metadata": {
        "id": "FzeTXzUSu8aw"
      },
      "source": [
        "X_val.drop(columns='index', inplace=True)"
      ],
      "execution_count": 115,
      "outputs": []
    },
    {
      "cell_type": "code",
      "metadata": {
        "id": "yVplpn1UvEyt"
      },
      "source": [
        "index = X_val.index"
      ],
      "execution_count": 116,
      "outputs": []
    },
    {
      "cell_type": "code",
      "metadata": {
        "id": "JPMJ9wSovTH0"
      },
      "source": [
        "index = list(index)"
      ],
      "execution_count": 117,
      "outputs": []
    },
    {
      "cell_type": "code",
      "metadata": {
        "id": "wfB3wTvXvBEm"
      },
      "source": [
        "sample_set = sample(index, k=5)"
      ],
      "execution_count": 120,
      "outputs": []
    },
    {
      "cell_type": "code",
      "metadata": {
        "id": "TvhG2lgrvYPp"
      },
      "source": [
        "for x, y in enumerate(sample_set):\n",
        "  for w, z in enumerate(X_val.columns):\n",
        "    for u, v in enumerate(X_val[z].value_counts().index):\n",
        "       if x == 0:\n",
        "        if w == 0:\n",
        "          if u == 0:\n",
        "            df_pdp = X_val.iloc[[y]]\n",
        "            df_pdp['indicator'] = z\n",
        "            df_pdp[z] = v\n",
        "       else:\n",
        "          df_temp = X_val.iloc[[y]]\n",
        "          df_temp['indicator'] = z\n",
        "          df_temp[z] = v\n",
        "          df_pdp = pd.concat([df_pdp, df_temp], ignore_index=True)"
      ],
      "execution_count": 121,
      "outputs": []
    },
    {
      "cell_type": "code",
      "metadata": {
        "id": "LwhCwGqY1H_V"
      },
      "source": [
        "pdp_prep = df_pdp.drop(columns='indicator')\n",
        "pdp_pred = pipeline.predict(pdp_prep)"
      ],
      "execution_count": 122,
      "outputs": []
    },
    {
      "cell_type": "code",
      "metadata": {
        "id": "mhhOioxh1aAl"
      },
      "source": [
        "df_pdp['pred'] = pdp_pred"
      ],
      "execution_count": 123,
      "outputs": []
    },
    {
      "cell_type": "code",
      "metadata": {
        "id": "NSrP70nV1k7A",
        "colab": {
          "base_uri": "https://localhost:8080/"
        },
        "outputId": "8b802423-c09f-42fe-8dd5-e37ec8432a0a"
      },
      "source": [
        "df_pdp.columns"
      ],
      "execution_count": 124,
      "outputs": [
        {
          "output_type": "execute_result",
          "data": {
            "text/plain": [
              "Index(['Unnamed: 0', 'budget', 'genres', 'original_language',\n",
              "       'production_countries', 'runtime', 'director', 'production_company',\n",
              "       'actors', 'year', 'month', 'day', 'number_of_languages', 'indicator',\n",
              "       'pred'],\n",
              "      dtype='object')"
            ]
          },
          "metadata": {
            "tags": []
          },
          "execution_count": 124
        }
      ]
    },
    {
      "cell_type": "code",
      "metadata": {
        "id": "1jJHIS3jyyZu"
      },
      "source": [
        "import seaborn as sns"
      ],
      "execution_count": 125,
      "outputs": []
    },
    {
      "cell_type": "code",
      "metadata": {
        "id": "o4BnOvHx04xN",
        "colab": {
          "base_uri": "https://localhost:8080/",
          "height": 307
        },
        "outputId": "08230ba8-6cdf-4d81-ba19-a99aa597a0d8"
      },
      "source": [
        "sns.lineplot(x='actors', y='pred', data=df_pdp.loc[df_pdp['indicator'] == 'actors'])"
      ],
      "execution_count": 126,
      "outputs": [
        {
          "output_type": "execute_result",
          "data": {
            "text/plain": [
              "<matplotlib.axes._subplots.AxesSubplot at 0x7faed1aa3e90>"
            ]
          },
          "metadata": {
            "tags": []
          },
          "execution_count": 126
        },
        {
          "output_type": "display_data",
          "data": {
            "image/png": "[encoded data removed]",
            "text/plain": [
              "<Figure size 432x288 with 1 Axes>"
            ]
          },
          "metadata": {
            "tags": [],
            "needs_background": "light"
          }
        }
      ]
    },
    {
      "cell_type": "code",
      "metadata": {
        "id": "-l-N6Dg-2aBo"
      },
      "source": [
        "for x, y in enumerate(df_pdp.columns):\n",
        "  if x == 0:\n",
        "    df_temp = df_pdp.loc[df_pdp['indicator'] == y]\n",
        "    df_app_pdp = df_temp.groupby(y).mean()\n",
        "    df_app_pdp[y] = df_app_pdp.index\n",
        "    df_app_pdp['indicator'] = y\n",
        "  else:\n",
        "    df_temp = df_pdp.loc[df_pdp['indicator'] == y]\n",
        "    df_temp = df_temp.groupby(y).mean()\n",
        "    df_temp['indicator'] = y\n",
        "    df_temp[y] = df_temp.index\n",
        "    df_app_pdp = pd.concat([df_app_pdp, df_temp], ignore_index=True)"
      ],
      "execution_count": 127,
      "outputs": []
    },
    {
      "cell_type": "code",
      "metadata": {
        "id": "AqpKXPr84fmU",
        "colab": {
          "base_uri": "https://localhost:8080/",
          "height": 307
        },
        "outputId": "1e2baaed-6b4d-4da9-806f-99d300029a5b"
      },
      "source": [
        "sns.lineplot(x = df_app_pdp.loc[df_app_pdp['indicator'] == 'actors', 'actors'], y = df_app_pdp.loc[df_app_pdp['indicator'] == 'actors', 'pred'], data=df_app_pdp)"
      ],
      "execution_count": 128,
      "outputs": [
        {
          "output_type": "execute_result",
          "data": {
            "text/plain": [
              "<matplotlib.axes._subplots.AxesSubplot at 0x7faed3e3c1d0>"
            ]
          },
          "metadata": {
            "tags": []
          },
          "execution_count": 128
        },
        {
          "output_type": "display_data",
          "data": {
            "image/png": "[encoded data removed]",
            "text/plain": [
              "<Figure size 432x288 with 1 Axes>"
            ]
          },
          "metadata": {
            "tags": [],
            "needs_background": "light"
          }
        }
      ]
    },
    {
      "cell_type": "code",
      "metadata": {
        "id": "GRMAzzlg7859",
        "colab": {
          "base_uri": "https://localhost:8080/",
          "height": 396
        },
        "outputId": "339199a4-49ec-43dd-de5d-a152018ed312"
      },
      "source": [
        "df_app_pdp.loc[df_app_pdp['indicator'] == 'actors']"
      ],
      "execution_count": 129,
      "outputs": [
        {
          "output_type": "execute_result",
          "data": {
            "text/html": [
              "<div>\n",
              "<style scoped>\n",
              "    .dataframe tbody tr th:only-of-type {\n",
              "        vertical-align: middle;\n",
              "    }\n",
              "\n",
              "    .dataframe tbody tr th {\n",
              "        vertical-align: top;\n",
              "    }\n",
              "\n",
              "    .dataframe thead th {\n",
              "        text-align: right;\n",
              "    }\n",
              "</style>\n",
              "<table border=\"1\" class=\"dataframe\">\n",
              "  <thead>\n",
              "    <tr style=\"text-align: right;\">\n",
              "      <th></th>\n",
              "      <th>budget</th>\n",
              "      <th>runtime</th>\n",
              "      <th>director</th>\n",
              "      <th>actors</th>\n",
              "      <th>year</th>\n",
              "      <th>month</th>\n",
              "      <th>day</th>\n",
              "      <th>number_of_languages</th>\n",
              "      <th>pred</th>\n",
              "      <th>Unnamed: 0</th>\n",
              "      <th>indicator</th>\n",
              "      <th>genres</th>\n",
              "      <th>original_language</th>\n",
              "      <th>production_countries</th>\n",
              "      <th>production_company</th>\n",
              "    </tr>\n",
              "  </thead>\n",
              "  <tbody>\n",
              "    <tr>\n",
              "      <th>1610</th>\n",
              "      <td>4.028928e+07</td>\n",
              "      <td>101.0</td>\n",
              "      <td>0.5</td>\n",
              "      <td>0.0</td>\n",
              "      <td>2000.75</td>\n",
              "      <td>9.0</td>\n",
              "      <td>15.75</td>\n",
              "      <td>1.5</td>\n",
              "      <td>5.294083e+07</td>\n",
              "      <td>4981.75</td>\n",
              "      <td>actors</td>\n",
              "      <td>NaN</td>\n",
              "      <td>NaN</td>\n",
              "      <td>NaN</td>\n",
              "      <td>NaN</td>\n",
              "    </tr>\n",
              "    <tr>\n",
              "      <th>1611</th>\n",
              "      <td>4.028928e+07</td>\n",
              "      <td>101.0</td>\n",
              "      <td>0.5</td>\n",
              "      <td>1.0</td>\n",
              "      <td>2000.75</td>\n",
              "      <td>9.0</td>\n",
              "      <td>15.75</td>\n",
              "      <td>1.5</td>\n",
              "      <td>5.329676e+07</td>\n",
              "      <td>4981.75</td>\n",
              "      <td>actors</td>\n",
              "      <td>NaN</td>\n",
              "      <td>NaN</td>\n",
              "      <td>NaN</td>\n",
              "      <td>NaN</td>\n",
              "    </tr>\n",
              "    <tr>\n",
              "      <th>1612</th>\n",
              "      <td>4.028928e+07</td>\n",
              "      <td>101.0</td>\n",
              "      <td>0.5</td>\n",
              "      <td>2.0</td>\n",
              "      <td>2000.75</td>\n",
              "      <td>9.0</td>\n",
              "      <td>15.75</td>\n",
              "      <td>1.5</td>\n",
              "      <td>5.284430e+07</td>\n",
              "      <td>4981.75</td>\n",
              "      <td>actors</td>\n",
              "      <td>NaN</td>\n",
              "      <td>NaN</td>\n",
              "      <td>NaN</td>\n",
              "      <td>NaN</td>\n",
              "    </tr>\n",
              "    <tr>\n",
              "      <th>1613</th>\n",
              "      <td>4.028928e+07</td>\n",
              "      <td>101.0</td>\n",
              "      <td>0.5</td>\n",
              "      <td>3.0</td>\n",
              "      <td>2000.75</td>\n",
              "      <td>9.0</td>\n",
              "      <td>15.75</td>\n",
              "      <td>1.5</td>\n",
              "      <td>5.281377e+07</td>\n",
              "      <td>4981.75</td>\n",
              "      <td>actors</td>\n",
              "      <td>NaN</td>\n",
              "      <td>NaN</td>\n",
              "      <td>NaN</td>\n",
              "      <td>NaN</td>\n",
              "    </tr>\n",
              "    <tr>\n",
              "      <th>1614</th>\n",
              "      <td>4.028928e+07</td>\n",
              "      <td>101.0</td>\n",
              "      <td>0.5</td>\n",
              "      <td>4.0</td>\n",
              "      <td>2000.75</td>\n",
              "      <td>9.0</td>\n",
              "      <td>15.75</td>\n",
              "      <td>1.5</td>\n",
              "      <td>5.646525e+07</td>\n",
              "      <td>4981.75</td>\n",
              "      <td>actors</td>\n",
              "      <td>NaN</td>\n",
              "      <td>NaN</td>\n",
              "      <td>NaN</td>\n",
              "      <td>NaN</td>\n",
              "    </tr>\n",
              "    <tr>\n",
              "      <th>1615</th>\n",
              "      <td>4.028928e+07</td>\n",
              "      <td>101.0</td>\n",
              "      <td>0.5</td>\n",
              "      <td>5.0</td>\n",
              "      <td>2000.75</td>\n",
              "      <td>9.0</td>\n",
              "      <td>15.75</td>\n",
              "      <td>1.5</td>\n",
              "      <td>5.836553e+07</td>\n",
              "      <td>4981.75</td>\n",
              "      <td>actors</td>\n",
              "      <td>NaN</td>\n",
              "      <td>NaN</td>\n",
              "      <td>NaN</td>\n",
              "      <td>NaN</td>\n",
              "    </tr>\n",
              "    <tr>\n",
              "      <th>1616</th>\n",
              "      <td>4.028928e+07</td>\n",
              "      <td>101.0</td>\n",
              "      <td>0.5</td>\n",
              "      <td>6.0</td>\n",
              "      <td>2000.75</td>\n",
              "      <td>9.0</td>\n",
              "      <td>15.75</td>\n",
              "      <td>1.5</td>\n",
              "      <td>7.615995e+07</td>\n",
              "      <td>4981.75</td>\n",
              "      <td>actors</td>\n",
              "      <td>NaN</td>\n",
              "      <td>NaN</td>\n",
              "      <td>NaN</td>\n",
              "      <td>NaN</td>\n",
              "    </tr>\n",
              "    <tr>\n",
              "      <th>1617</th>\n",
              "      <td>4.028928e+07</td>\n",
              "      <td>101.0</td>\n",
              "      <td>0.5</td>\n",
              "      <td>7.0</td>\n",
              "      <td>2000.75</td>\n",
              "      <td>9.0</td>\n",
              "      <td>15.75</td>\n",
              "      <td>1.5</td>\n",
              "      <td>9.254614e+07</td>\n",
              "      <td>4981.75</td>\n",
              "      <td>actors</td>\n",
              "      <td>NaN</td>\n",
              "      <td>NaN</td>\n",
              "      <td>NaN</td>\n",
              "      <td>NaN</td>\n",
              "    </tr>\n",
              "    <tr>\n",
              "      <th>1618</th>\n",
              "      <td>4.028928e+07</td>\n",
              "      <td>101.0</td>\n",
              "      <td>0.5</td>\n",
              "      <td>8.0</td>\n",
              "      <td>2000.75</td>\n",
              "      <td>9.0</td>\n",
              "      <td>15.75</td>\n",
              "      <td>1.5</td>\n",
              "      <td>9.254614e+07</td>\n",
              "      <td>4981.75</td>\n",
              "      <td>actors</td>\n",
              "      <td>NaN</td>\n",
              "      <td>NaN</td>\n",
              "      <td>NaN</td>\n",
              "      <td>NaN</td>\n",
              "    </tr>\n",
              "    <tr>\n",
              "      <th>1619</th>\n",
              "      <td>4.028928e+07</td>\n",
              "      <td>101.0</td>\n",
              "      <td>0.5</td>\n",
              "      <td>9.0</td>\n",
              "      <td>2000.75</td>\n",
              "      <td>9.0</td>\n",
              "      <td>15.75</td>\n",
              "      <td>1.5</td>\n",
              "      <td>9.254614e+07</td>\n",
              "      <td>4981.75</td>\n",
              "      <td>actors</td>\n",
              "      <td>NaN</td>\n",
              "      <td>NaN</td>\n",
              "      <td>NaN</td>\n",
              "      <td>NaN</td>\n",
              "    </tr>\n",
              "  </tbody>\n",
              "</table>\n",
              "</div>"
            ],
            "text/plain": [
              "            budget  runtime  ...  production_countries  production_company\n",
              "1610  4.028928e+07    101.0  ...                   NaN                 NaN\n",
              "1611  4.028928e+07    101.0  ...                   NaN                 NaN\n",
              "1612  4.028928e+07    101.0  ...                   NaN                 NaN\n",
              "1613  4.028928e+07    101.0  ...                   NaN                 NaN\n",
              "1614  4.028928e+07    101.0  ...                   NaN                 NaN\n",
              "1615  4.028928e+07    101.0  ...                   NaN                 NaN\n",
              "1616  4.028928e+07    101.0  ...                   NaN                 NaN\n",
              "1617  4.028928e+07    101.0  ...                   NaN                 NaN\n",
              "1618  4.028928e+07    101.0  ...                   NaN                 NaN\n",
              "1619  4.028928e+07    101.0  ...                   NaN                 NaN\n",
              "\n",
              "[10 rows x 15 columns]"
            ]
          },
          "metadata": {
            "tags": []
          },
          "execution_count": 129
        }
      ]
    },
    {
      "cell_type": "code",
      "metadata": {
        "colab": {
          "base_uri": "https://localhost:8080/"
        },
        "id": "4FUKtxKk9pH_",
        "outputId": "b4d8a673-1f83-4d5e-a6a0-367f9e5d4095"
      },
      "source": [
        "#final test to evaluate model\n",
        "pipeline.score(X_test, y_test)"
      ],
      "execution_count": 130,
      "outputs": [
        {
          "output_type": "execute_result",
          "data": {
            "text/plain": [
              "0.6065214980694571"
            ]
          },
          "metadata": {
            "tags": []
          },
          "execution_count": 130
        }
      ]
    },
    {
      "cell_type": "code",
      "metadata": {
        "id": "k7e8cxTF-o85"
      },
      "source": [
        ""
      ],
      "execution_count": null,
      "outputs": []
    }
  ]
}